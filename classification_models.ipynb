{
  "nbformat": 4,
  "nbformat_minor": 0,
  "metadata": {
    "colab": {
      "provenance": []
    },
    "kernelspec": {
      "name": "python3",
      "display_name": "Python 3"
    },
    "language_info": {
      "name": "python"
    }
  },
  "cells": [
    {
      "cell_type": "code",
      "source": [
        "from google.colab import drive\n",
        "drive.mount('/content/drive')"
      ],
      "metadata": {
        "colab": {
          "base_uri": "https://localhost:8080/"
        },
        "id": "FQTWE_gXEVmj",
        "outputId": "6ce14c88-67f6-483e-c45b-a97280fbcc3f"
      },
      "execution_count": 11,
      "outputs": [
        {
          "output_type": "stream",
          "name": "stdout",
          "text": [
            "Drive already mounted at /content/drive; to attempt to forcibly remount, call drive.mount(\"/content/drive\", force_remount=True).\n"
          ]
        }
      ]
    },
    {
      "cell_type": "code",
      "execution_count": 1,
      "metadata": {
        "id": "NGrr075S5Qa8"
      },
      "outputs": [],
      "source": [
        "import pandas as pd"
      ]
    },
    {
      "cell_type": "code",
      "source": [
        "df = pd.read_csv(\"/content/drive/MyDrive/Resume Classification/Raw_Resume.csv\")"
      ],
      "metadata": {
        "id": "s_3PAmUe5hA9"
      },
      "execution_count": 2,
      "outputs": []
    },
    {
      "cell_type": "code",
      "source": [
        "df"
      ],
      "metadata": {
        "colab": {
          "base_uri": "https://localhost:8080/",
          "height": 645
        },
        "id": "DrQzTg765hRe",
        "outputId": "77f633e3-47f9-470f-fffa-160c416ae8c0"
      },
      "execution_count": 3,
      "outputs": [
        {
          "output_type": "execute_result",
          "data": {
            "text/plain": [
              "           Category                                        Raw_Details\n",
              "0     Data Engineer  Data Engineer, Jayesh Jain\\n\\n\\n\\n400104 Mumba...\n",
              "1     Data Engineer  ABOUT ME\\n\\nI’m a data scientist with great in...\n",
              "2     Data Engineer  Vincent Le Goualher \\n1426 Concise, CH \\nBorn ...\n",
              "3     Data Engineer  Sudarshan Babu | CV \\n\\tsudarshan@ttic.edu –We...\n",
              "4     Data Engineer  Tamilnadu, India. JUNIOR DATA ENGINEER\\t\\n\\n\\n...\n",
              "5    Data Scientist  GOKULA VARSHINI M\\n\\nDATA SCIENTIST\\n\\nAbout M...\n",
              "6    Data Scientist  @datasciencenik@gmail.com \\n\\nNikunj Maheshwar...\n",
              "7    Data Scientist  Ashish Patel \\n\\nSr. Data Scientist & Author \\...\n",
              "8    Data Scientist  Work Experience\\n\\n\\n\\n\\n\\n\\t2020–current Soli...\n",
              "9    Data Scientist  Jared Sylvester, Ph.D.\\n\\nCurriculum Vitæ\\n\\n4...\n",
              "10  Design Engineer  CURRICULUM VITAE\\n\\nMr. SACHIN JALDE\\n\\nGmail ...\n",
              "11  Design Engineer  SAHIL SHARMA \\n\\n\\n\\nMobile : +91-9988291420 \\...\n",
              "12  Design Engineer  Curriculum Vitae Ujjwal Kumar \\nCurrent Addres...\n",
              "13  Design Engineer  M I C H A E L  G A L V I N \\n115 Stanworth Lan...\n",
              "14   Java Developer  SOPHIE TAN \\nFlat 404 Baldwin Point, 6 Sayer S...\n",
              "15   Java Developer  Emarson Que \\nTo be part of an organization wh...\n",
              "16   Java Developer  Elena Samsonova Java developer \\nKyiv, Ukraine...\n",
              "17   Java Developer  Artem Nabirkin \\nSr. Software Development Engi...\n",
              "18   Java Developer  Justine Leleu\\n\\nLicense\\n\\nAddress\\n\\n\\n\\nB +..."
            ],
            "text/html": [
              "\n",
              "  <div id=\"df-7a716281-8907-4091-a850-432769601ff0\" class=\"colab-df-container\">\n",
              "    <div>\n",
              "<style scoped>\n",
              "    .dataframe tbody tr th:only-of-type {\n",
              "        vertical-align: middle;\n",
              "    }\n",
              "\n",
              "    .dataframe tbody tr th {\n",
              "        vertical-align: top;\n",
              "    }\n",
              "\n",
              "    .dataframe thead th {\n",
              "        text-align: right;\n",
              "    }\n",
              "</style>\n",
              "<table border=\"1\" class=\"dataframe\">\n",
              "  <thead>\n",
              "    <tr style=\"text-align: right;\">\n",
              "      <th></th>\n",
              "      <th>Category</th>\n",
              "      <th>Raw_Details</th>\n",
              "    </tr>\n",
              "  </thead>\n",
              "  <tbody>\n",
              "    <tr>\n",
              "      <th>0</th>\n",
              "      <td>Data Engineer</td>\n",
              "      <td>Data Engineer, Jayesh Jain\\n\\n\\n\\n400104 Mumba...</td>\n",
              "    </tr>\n",
              "    <tr>\n",
              "      <th>1</th>\n",
              "      <td>Data Engineer</td>\n",
              "      <td>ABOUT ME\\n\\nI’m a data scientist with great in...</td>\n",
              "    </tr>\n",
              "    <tr>\n",
              "      <th>2</th>\n",
              "      <td>Data Engineer</td>\n",
              "      <td>Vincent Le Goualher \\n1426 Concise, CH \\nBorn ...</td>\n",
              "    </tr>\n",
              "    <tr>\n",
              "      <th>3</th>\n",
              "      <td>Data Engineer</td>\n",
              "      <td>Sudarshan Babu | CV \\n\\tsudarshan@ttic.edu –We...</td>\n",
              "    </tr>\n",
              "    <tr>\n",
              "      <th>4</th>\n",
              "      <td>Data Engineer</td>\n",
              "      <td>Tamilnadu, India. JUNIOR DATA ENGINEER\\t\\n\\n\\n...</td>\n",
              "    </tr>\n",
              "    <tr>\n",
              "      <th>5</th>\n",
              "      <td>Data Scientist</td>\n",
              "      <td>GOKULA VARSHINI M\\n\\nDATA SCIENTIST\\n\\nAbout M...</td>\n",
              "    </tr>\n",
              "    <tr>\n",
              "      <th>6</th>\n",
              "      <td>Data Scientist</td>\n",
              "      <td>@datasciencenik@gmail.com \\n\\nNikunj Maheshwar...</td>\n",
              "    </tr>\n",
              "    <tr>\n",
              "      <th>7</th>\n",
              "      <td>Data Scientist</td>\n",
              "      <td>Ashish Patel \\n\\nSr. Data Scientist &amp; Author \\...</td>\n",
              "    </tr>\n",
              "    <tr>\n",
              "      <th>8</th>\n",
              "      <td>Data Scientist</td>\n",
              "      <td>Work Experience\\n\\n\\n\\n\\n\\n\\t2020–current Soli...</td>\n",
              "    </tr>\n",
              "    <tr>\n",
              "      <th>9</th>\n",
              "      <td>Data Scientist</td>\n",
              "      <td>Jared Sylvester, Ph.D.\\n\\nCurriculum Vitæ\\n\\n4...</td>\n",
              "    </tr>\n",
              "    <tr>\n",
              "      <th>10</th>\n",
              "      <td>Design Engineer</td>\n",
              "      <td>CURRICULUM VITAE\\n\\nMr. SACHIN JALDE\\n\\nGmail ...</td>\n",
              "    </tr>\n",
              "    <tr>\n",
              "      <th>11</th>\n",
              "      <td>Design Engineer</td>\n",
              "      <td>SAHIL SHARMA \\n\\n\\n\\nMobile : +91-9988291420 \\...</td>\n",
              "    </tr>\n",
              "    <tr>\n",
              "      <th>12</th>\n",
              "      <td>Design Engineer</td>\n",
              "      <td>Curriculum Vitae Ujjwal Kumar \\nCurrent Addres...</td>\n",
              "    </tr>\n",
              "    <tr>\n",
              "      <th>13</th>\n",
              "      <td>Design Engineer</td>\n",
              "      <td>M I C H A E L  G A L V I N \\n115 Stanworth Lan...</td>\n",
              "    </tr>\n",
              "    <tr>\n",
              "      <th>14</th>\n",
              "      <td>Java Developer</td>\n",
              "      <td>SOPHIE TAN \\nFlat 404 Baldwin Point, 6 Sayer S...</td>\n",
              "    </tr>\n",
              "    <tr>\n",
              "      <th>15</th>\n",
              "      <td>Java Developer</td>\n",
              "      <td>Emarson Que \\nTo be part of an organization wh...</td>\n",
              "    </tr>\n",
              "    <tr>\n",
              "      <th>16</th>\n",
              "      <td>Java Developer</td>\n",
              "      <td>Elena Samsonova Java developer \\nKyiv, Ukraine...</td>\n",
              "    </tr>\n",
              "    <tr>\n",
              "      <th>17</th>\n",
              "      <td>Java Developer</td>\n",
              "      <td>Artem Nabirkin \\nSr. Software Development Engi...</td>\n",
              "    </tr>\n",
              "    <tr>\n",
              "      <th>18</th>\n",
              "      <td>Java Developer</td>\n",
              "      <td>Justine Leleu\\n\\nLicense\\n\\nAddress\\n\\n\\n\\nB +...</td>\n",
              "    </tr>\n",
              "  </tbody>\n",
              "</table>\n",
              "</div>\n",
              "    <div class=\"colab-df-buttons\">\n",
              "\n",
              "  <div class=\"colab-df-container\">\n",
              "    <button class=\"colab-df-convert\" onclick=\"convertToInteractive('df-7a716281-8907-4091-a850-432769601ff0')\"\n",
              "            title=\"Convert this dataframe to an interactive table.\"\n",
              "            style=\"display:none;\">\n",
              "\n",
              "  <svg xmlns=\"http://www.w3.org/2000/svg\" height=\"24px\" viewBox=\"0 -960 960 960\">\n",
              "    <path d=\"M120-120v-720h720v720H120Zm60-500h600v-160H180v160Zm220 220h160v-160H400v160Zm0 220h160v-160H400v160ZM180-400h160v-160H180v160Zm440 0h160v-160H620v160ZM180-180h160v-160H180v160Zm440 0h160v-160H620v160Z\"/>\n",
              "  </svg>\n",
              "    </button>\n",
              "\n",
              "  <style>\n",
              "    .colab-df-container {\n",
              "      display:flex;\n",
              "      gap: 12px;\n",
              "    }\n",
              "\n",
              "    .colab-df-convert {\n",
              "      background-color: #E8F0FE;\n",
              "      border: none;\n",
              "      border-radius: 50%;\n",
              "      cursor: pointer;\n",
              "      display: none;\n",
              "      fill: #1967D2;\n",
              "      height: 32px;\n",
              "      padding: 0 0 0 0;\n",
              "      width: 32px;\n",
              "    }\n",
              "\n",
              "    .colab-df-convert:hover {\n",
              "      background-color: #E2EBFA;\n",
              "      box-shadow: 0px 1px 2px rgba(60, 64, 67, 0.3), 0px 1px 3px 1px rgba(60, 64, 67, 0.15);\n",
              "      fill: #174EA6;\n",
              "    }\n",
              "\n",
              "    .colab-df-buttons div {\n",
              "      margin-bottom: 4px;\n",
              "    }\n",
              "\n",
              "    [theme=dark] .colab-df-convert {\n",
              "      background-color: #3B4455;\n",
              "      fill: #D2E3FC;\n",
              "    }\n",
              "\n",
              "    [theme=dark] .colab-df-convert:hover {\n",
              "      background-color: #434B5C;\n",
              "      box-shadow: 0px 1px 3px 1px rgba(0, 0, 0, 0.15);\n",
              "      filter: drop-shadow(0px 1px 2px rgba(0, 0, 0, 0.3));\n",
              "      fill: #FFFFFF;\n",
              "    }\n",
              "  </style>\n",
              "\n",
              "    <script>\n",
              "      const buttonEl =\n",
              "        document.querySelector('#df-7a716281-8907-4091-a850-432769601ff0 button.colab-df-convert');\n",
              "      buttonEl.style.display =\n",
              "        google.colab.kernel.accessAllowed ? 'block' : 'none';\n",
              "\n",
              "      async function convertToInteractive(key) {\n",
              "        const element = document.querySelector('#df-7a716281-8907-4091-a850-432769601ff0');\n",
              "        const dataTable =\n",
              "          await google.colab.kernel.invokeFunction('convertToInteractive',\n",
              "                                                    [key], {});\n",
              "        if (!dataTable) return;\n",
              "\n",
              "        const docLinkHtml = 'Like what you see? Visit the ' +\n",
              "          '<a target=\"_blank\" href=https://colab.research.google.com/notebooks/data_table.ipynb>data table notebook</a>'\n",
              "          + ' to learn more about interactive tables.';\n",
              "        element.innerHTML = '';\n",
              "        dataTable['output_type'] = 'display_data';\n",
              "        await google.colab.output.renderOutput(dataTable, element);\n",
              "        const docLink = document.createElement('div');\n",
              "        docLink.innerHTML = docLinkHtml;\n",
              "        element.appendChild(docLink);\n",
              "      }\n",
              "    </script>\n",
              "  </div>\n",
              "\n",
              "\n",
              "<div id=\"df-17a1374b-8300-4007-aa3f-60dc021693e7\">\n",
              "  <button class=\"colab-df-quickchart\" onclick=\"quickchart('df-17a1374b-8300-4007-aa3f-60dc021693e7')\"\n",
              "            title=\"Suggest charts\"\n",
              "            style=\"display:none;\">\n",
              "\n",
              "<svg xmlns=\"http://www.w3.org/2000/svg\" height=\"24px\"viewBox=\"0 0 24 24\"\n",
              "     width=\"24px\">\n",
              "    <g>\n",
              "        <path d=\"M19 3H5c-1.1 0-2 .9-2 2v14c0 1.1.9 2 2 2h14c1.1 0 2-.9 2-2V5c0-1.1-.9-2-2-2zM9 17H7v-7h2v7zm4 0h-2V7h2v10zm4 0h-2v-4h2v4z\"/>\n",
              "    </g>\n",
              "</svg>\n",
              "  </button>\n",
              "\n",
              "<style>\n",
              "  .colab-df-quickchart {\n",
              "      --bg-color: #E8F0FE;\n",
              "      --fill-color: #1967D2;\n",
              "      --hover-bg-color: #E2EBFA;\n",
              "      --hover-fill-color: #174EA6;\n",
              "      --disabled-fill-color: #AAA;\n",
              "      --disabled-bg-color: #DDD;\n",
              "  }\n",
              "\n",
              "  [theme=dark] .colab-df-quickchart {\n",
              "      --bg-color: #3B4455;\n",
              "      --fill-color: #D2E3FC;\n",
              "      --hover-bg-color: #434B5C;\n",
              "      --hover-fill-color: #FFFFFF;\n",
              "      --disabled-bg-color: #3B4455;\n",
              "      --disabled-fill-color: #666;\n",
              "  }\n",
              "\n",
              "  .colab-df-quickchart {\n",
              "    background-color: var(--bg-color);\n",
              "    border: none;\n",
              "    border-radius: 50%;\n",
              "    cursor: pointer;\n",
              "    display: none;\n",
              "    fill: var(--fill-color);\n",
              "    height: 32px;\n",
              "    padding: 0;\n",
              "    width: 32px;\n",
              "  }\n",
              "\n",
              "  .colab-df-quickchart:hover {\n",
              "    background-color: var(--hover-bg-color);\n",
              "    box-shadow: 0 1px 2px rgba(60, 64, 67, 0.3), 0 1px 3px 1px rgba(60, 64, 67, 0.15);\n",
              "    fill: var(--button-hover-fill-color);\n",
              "  }\n",
              "\n",
              "  .colab-df-quickchart-complete:disabled,\n",
              "  .colab-df-quickchart-complete:disabled:hover {\n",
              "    background-color: var(--disabled-bg-color);\n",
              "    fill: var(--disabled-fill-color);\n",
              "    box-shadow: none;\n",
              "  }\n",
              "\n",
              "  .colab-df-spinner {\n",
              "    border: 2px solid var(--fill-color);\n",
              "    border-color: transparent;\n",
              "    border-bottom-color: var(--fill-color);\n",
              "    animation:\n",
              "      spin 1s steps(1) infinite;\n",
              "  }\n",
              "\n",
              "  @keyframes spin {\n",
              "    0% {\n",
              "      border-color: transparent;\n",
              "      border-bottom-color: var(--fill-color);\n",
              "      border-left-color: var(--fill-color);\n",
              "    }\n",
              "    20% {\n",
              "      border-color: transparent;\n",
              "      border-left-color: var(--fill-color);\n",
              "      border-top-color: var(--fill-color);\n",
              "    }\n",
              "    30% {\n",
              "      border-color: transparent;\n",
              "      border-left-color: var(--fill-color);\n",
              "      border-top-color: var(--fill-color);\n",
              "      border-right-color: var(--fill-color);\n",
              "    }\n",
              "    40% {\n",
              "      border-color: transparent;\n",
              "      border-right-color: var(--fill-color);\n",
              "      border-top-color: var(--fill-color);\n",
              "    }\n",
              "    60% {\n",
              "      border-color: transparent;\n",
              "      border-right-color: var(--fill-color);\n",
              "    }\n",
              "    80% {\n",
              "      border-color: transparent;\n",
              "      border-right-color: var(--fill-color);\n",
              "      border-bottom-color: var(--fill-color);\n",
              "    }\n",
              "    90% {\n",
              "      border-color: transparent;\n",
              "      border-bottom-color: var(--fill-color);\n",
              "    }\n",
              "  }\n",
              "</style>\n",
              "\n",
              "  <script>\n",
              "    async function quickchart(key) {\n",
              "      const quickchartButtonEl =\n",
              "        document.querySelector('#' + key + ' button');\n",
              "      quickchartButtonEl.disabled = true;  // To prevent multiple clicks.\n",
              "      quickchartButtonEl.classList.add('colab-df-spinner');\n",
              "      try {\n",
              "        const charts = await google.colab.kernel.invokeFunction(\n",
              "            'suggestCharts', [key], {});\n",
              "      } catch (error) {\n",
              "        console.error('Error during call to suggestCharts:', error);\n",
              "      }\n",
              "      quickchartButtonEl.classList.remove('colab-df-spinner');\n",
              "      quickchartButtonEl.classList.add('colab-df-quickchart-complete');\n",
              "    }\n",
              "    (() => {\n",
              "      let quickchartButtonEl =\n",
              "        document.querySelector('#df-17a1374b-8300-4007-aa3f-60dc021693e7 button');\n",
              "      quickchartButtonEl.style.display =\n",
              "        google.colab.kernel.accessAllowed ? 'block' : 'none';\n",
              "    })();\n",
              "  </script>\n",
              "</div>\n",
              "\n",
              "  <div id=\"id_c387e892-6766-4b00-8c03-0c9b303d57a9\">\n",
              "    <style>\n",
              "      .colab-df-generate {\n",
              "        background-color: #E8F0FE;\n",
              "        border: none;\n",
              "        border-radius: 50%;\n",
              "        cursor: pointer;\n",
              "        display: none;\n",
              "        fill: #1967D2;\n",
              "        height: 32px;\n",
              "        padding: 0 0 0 0;\n",
              "        width: 32px;\n",
              "      }\n",
              "\n",
              "      .colab-df-generate:hover {\n",
              "        background-color: #E2EBFA;\n",
              "        box-shadow: 0px 1px 2px rgba(60, 64, 67, 0.3), 0px 1px 3px 1px rgba(60, 64, 67, 0.15);\n",
              "        fill: #174EA6;\n",
              "      }\n",
              "\n",
              "      [theme=dark] .colab-df-generate {\n",
              "        background-color: #3B4455;\n",
              "        fill: #D2E3FC;\n",
              "      }\n",
              "\n",
              "      [theme=dark] .colab-df-generate:hover {\n",
              "        background-color: #434B5C;\n",
              "        box-shadow: 0px 1px 3px 1px rgba(0, 0, 0, 0.15);\n",
              "        filter: drop-shadow(0px 1px 2px rgba(0, 0, 0, 0.3));\n",
              "        fill: #FFFFFF;\n",
              "      }\n",
              "    </style>\n",
              "    <button class=\"colab-df-generate\" onclick=\"generateWithVariable('df')\"\n",
              "            title=\"Generate code using this dataframe.\"\n",
              "            style=\"display:none;\">\n",
              "\n",
              "  <svg xmlns=\"http://www.w3.org/2000/svg\" height=\"24px\"viewBox=\"0 0 24 24\"\n",
              "       width=\"24px\">\n",
              "    <path d=\"M7,19H8.4L18.45,9,17,7.55,7,17.6ZM5,21V16.75L18.45,3.32a2,2,0,0,1,2.83,0l1.4,1.43a1.91,1.91,0,0,1,.58,1.4,1.91,1.91,0,0,1-.58,1.4L9.25,21ZM18.45,9,17,7.55Zm-12,3A5.31,5.31,0,0,0,4.9,8.1,5.31,5.31,0,0,0,1,6.5,5.31,5.31,0,0,0,4.9,4.9,5.31,5.31,0,0,0,6.5,1,5.31,5.31,0,0,0,8.1,4.9,5.31,5.31,0,0,0,12,6.5,5.46,5.46,0,0,0,6.5,12Z\"/>\n",
              "  </svg>\n",
              "    </button>\n",
              "    <script>\n",
              "      (() => {\n",
              "      const buttonEl =\n",
              "        document.querySelector('#id_c387e892-6766-4b00-8c03-0c9b303d57a9 button.colab-df-generate');\n",
              "      buttonEl.style.display =\n",
              "        google.colab.kernel.accessAllowed ? 'block' : 'none';\n",
              "\n",
              "      buttonEl.onclick = () => {\n",
              "        google.colab.notebook.generateWithVariable('df');\n",
              "      }\n",
              "      })();\n",
              "    </script>\n",
              "  </div>\n",
              "\n",
              "    </div>\n",
              "  </div>\n"
            ],
            "application/vnd.google.colaboratory.intrinsic+json": {
              "type": "dataframe",
              "variable_name": "df",
              "summary": "{\n  \"name\": \"df\",\n  \"rows\": 19,\n  \"fields\": [\n    {\n      \"column\": \"Category\",\n      \"properties\": {\n        \"dtype\": \"category\",\n        \"num_unique_values\": 4,\n        \"samples\": [\n          \"Data Scientist\",\n          \"Java Developer\",\n          \"Data Engineer\"\n        ],\n        \"semantic_type\": \"\",\n        \"description\": \"\"\n      }\n    },\n    {\n      \"column\": \"Raw_Details\",\n      \"properties\": {\n        \"dtype\": \"string\",\n        \"num_unique_values\": 19,\n        \"samples\": [\n          \"Data Engineer, Jayesh Jain\\n\\n\\n\\n400104 Mumbai, India\\n\\n\\n\\njayeshjain1529@gmail.com\\n\\n\\n\\n9769045947\\n\\n\\n\\n\\n\\nhttps://jayesh15.github.io/\\n\\n\\n\\n\\n\\nCareer Objective\\n\\nData Engineer keen to help companies collect, collate, and exploit digital assets and build cloud infrastructure\\n\\nEducation\\n\\nBE in Information Technology, Xavier Institute of Engineering CGPA : 8.43 (out of 10)\\n\\nHigher Secondary Education, Patkar-Varde College Percentage: 72.15%\\n\\nSSC, Dr. S Radhakrishnan Vidyalaya \\nPercentage: 85.45%\\n\\n2016 \\u2013 2020 Mumbai, India\\n\\n2015 \\u2013 2016 Mumbai, India\\n\\n2012 \\u2013 2013 Mumbai, India\\n\\nProfessional Experience\\n\\nData Engineer, Larsen & Toubro Infotech\\n\\nJan 2021 \\u2013 Present Mumbai, India\\n\\n\\n\\nGenerated detailed studies on potential third-party data handling \\n\\n\\n\\nsolutions, verifying compliance with internal needs and stakeholder requirements.\\n\\n\\t\\tAnalyzed complex data and identified anomalies, trends, and risks to \\tprovide useful insights to improve internal controls.\\n\\n\\t\\tProvided automation techniques to automate daily monitoring tasks\\n\\n\\t\\tPublished Knowledge articles on issues with the root cause analysis and \\tdetailed solutions\\n\\n\\tResearch And Teaching Assistant, TalentHome Solutions LLP Jun 2018 \\u2013 Jan 2021\\n\\n\\t\\t\\tWorking as a Research and Training Assistant in different IT \\tMumbai, India \\ttechnologies. \\n\\n\\t\\tTook IT training for more than 100 students over the years and \\tworkshops in different engineering colleges in Mumbai. \\n\\n\\t\\tDeveloped interactive courses for both Online and Offline Training \\tprograms. Also handled a team of interns for live projects and provided \\tdigital marketing solutions to different brands.\\n\\n\\tAndroid Developer, Laqshya Infosoft Solutions Nov 2017 \\u2013 Dec 2017\\n\\n\\t\\t\\tIntensive Training on Android Application Development with an \\tMumbai, India \\tinternship. Developed an Application- MAKE MY PC. The application \\n\\thelps to design a virtual PC with an extensive range of products and \\n\\tspecifications while generating a rank and also an overall prize.\\n\\nTechnical Skills\\n\\nCloud Technologies (Azure, AWS, Snowflake)\\n\\n\\t\\tBig Data and Analytics (Databricks, Spark, Power BI, Tableau, ADF)\\t\\tProgramming (Python, OOP)\\n\\n\\t\\tDatabase and Web (SQL Server, Oracle DB, PHP, JavaScript)\\tAI (Natural Language Processing)\\n\\n\\tjayeshjain1529@gmail.com 1 / 2\\n\\n\\n\\nCertificates\\n\\n\\n\\nMicrosoft Certified Trainer \\n\\n\\n\\nMicrosoft Certified: Azure \\n\\n\\n\\nMicrosoft Certified: Data \\n\\n\\n\\n2021-2022\\n\\n\\n\\n\\n\\nData Engineer Associate\\n\\n\\n\\n\\n\\nAnalyst Associate\\n\\n\\n\\n\\n\\nMicrosoft Certified: Azure \\n\\n\\n\\nMicrosoft Certified: Azure \\n\\n\\n\\nMicrosoft Certified: Azure AI \\n\\n\\n\\nFundamentals\\n\\n\\n\\n\\n\\nData Fundamentals\\n\\n\\n\\n\\n\\nFundamentals\\n\\n\\n\\n\\n\\nMicrosoft Certified: Power \\n\\n\\n\\nMicrosoft Certified: Security, \\n\\n\\n\\nMicrosoft Certified: \\n\\n\\n\\nPlatform Fundamentals\\n\\n\\n\\n\\n\\nCompliance, and Identity \\n\\n\\n\\nDynamics 365 \\n\\n\\n\\n\\n\\n\\n\\n\\n\\nFundamentals\\n\\n\\n\\n\\n\\nFundamentals (ERP)\\n\\n\\n\\n\\n\\nPython Data Structures by \\n\\n\\n\\n\\n\\n\\n\\n\\n\\n\\n\\n\\n\\nUniversity of Michigan\\n\\nProjects\\n\\nCOVID-19 ANALYSIS USING BIG DATA TOOLS \\nHealthcare Management , Technologies used : AWS, Snowflake, Spark, Tableau, SQL\\n\\nCUSTOMER ANALYSIS ON FACTORS LEADING TO PURCHASE OF VEHICLES USING R PROGRAMMING Technologies used : R and Python\\n\\nDEEP LEARNING TO GET DATA ENTERIES FROM PAPERBACK FORMS Technologies used : Python , Tensor Flow, OpenCV, CRNN\\n\\nREAL TIME SENTIMENT ANALYSIS FOR TWITTER DATA \\nTechnologies used : Twitter API, Python, Data Analysis, Tweepy, Pandas\\n\\nSOCIAL NETWORKING WEBSITE FOR COLLEGE \\nTechnologies used : Php, MySQL, HTML, CSS, JS\\n\\nPublications\\n\\nUSING CRNN TO PERFORM OCR OVER FORMS, \\nInternational Journal of Engineering Research & Technology\\n\\nAUTOMATIC DATA COLLECTION FROM FORMS USING OCR, \\nInternational Research Journal of Engineering and Technology\\n\\nAwards\\n\\nTop 10 winners at district level coding marathon, \\n\\n2019\\n\\nXavier Institute of Engineering\\n\\n\\tMost valuable IT trainer, TalentHome Solutions LLP \\t2019\\n\\nHobbies and Interests\\n\\nDigital Content \\n\\nMusic\\n\\nPoetry\\n\\nVoluntering\\n\\nCreation\\n\\nFlute , Drums\\n\\nPoems, Short Stories\\n\\nBlood donation drives \\n\\nVideos, Posts, Blogs\\n\\n\\n\\n\\n\\nCleanliness drives \\n\\nTree plantations\\n\\njayeshjain1529@gmail.com\\n\\n2 / 2\",\n          \"GOKULA VARSHINI M\\n\\nDATA SCIENTIST\\n\\nAbout Me\\n\\nAs a data scientist, I am committed to staying up-to-date with the latest tools and technologies in the field and continuously improving my skills. I am excited to leverage my expertise to help your organization make data-driven decisions and drive business outcomes.\\n\\nEducation\\n\\nContact Me\\n\\nKarpagam College Of Engineering\\n\\n2020-2024\\n\\n\\n\\n66B, Thalaiyari Ramasamy Street\\n\\n\\n\\n\\n\\n\\n\\n\\n\\nB.tech Artificial Intelligence and Data Science\\n\\nChinnamanur, Theni District\\n\\n\\n\\n\\n\\n\\n\\nCGPA-9.33 (up to 5th semester)\\n\\n\\n\\nCoimbatore, TamilNadu\\n\\n\\n\\n+91 8098472687\\n\\nMary Matha Matriculation Higher Secondary School\\n\\n\\n\\ngokulavarshini13@gmail.com\\n\\n\\n\\n\\n\\n\\n\\nHigher Secondary Education\\n\\n2019-2020\\n\\nTechnical Skills\\n\\n\\n\\nPercentage- 82\\n\\n\\n\\nTheni, TamilNadu\\n\\n\\n\\nMary Matha Matriculation Higher Secondary School\\n\\n\\n\\nUnity\\n\\n\\n\\n\\n\\n\\n\\n Secondary Education\\n\\n2017-2018\\n\\n\\n\\nComputervision\\n\\n\\n\\n\\n\\n\\n\\n\\n\\n\\n\\nPercentage- 94\\n\\n\\n\\nTheni, TamilNadu\\n\\n\\n\\nMachine Learning\\n\\n\\n\\n\\n\\n\\n\\n\\n\\n\\n\\nDeep Learning\\n\\nProjects\\n\\n\\n\\nNatural Language Processing\\n\\n\\n\\n\\n\\nData Structure\\n\\n\\n\\n\\n\\n\\n\\nOpenAI - Niva\\n\\nMar,2023-Ongoing\\n\\n\\n\\nDatabase Management System\\n\\n\\n\\n\\n\\nTechnical Languages\\n\\n\\n\\nThis project involves developing a chatbot using OpenAI's API. The chatbot\\n\\n\\n\\nwill be integrated with a website and will interact with users on topics related to AI. \\n\\n\\n\\n\\n\\nThe goal is to create a natural and intelligent conversational interface that\\n\\n\\n\\nPython\\n\\n\\n\\n\\n\\n\\n\\n\\n\\ncan provide helpful information and insights to users.\\n\\n\\n\\nR\\n\\n\\n\\nThe chatbot will use natural language processing  to understand user\\n\\n\\n\\nC\\n\\nqueries and provide accurate and relevant responses.\\n\\n\\n\\nJava\\n\\nSpeech Emotion Recognition\\n\\nNov,2023\\n\\n\\n\\nC#\\n\\n\\n\\n\\n\\n\\n\\nHTML\\n\\n\\n\\nThis project involves developing a system that can recognize emotions\\n\\n\\n\\nCSS\\n\\nfrom speech signals. \\n\\n\\n\\n\\n\\n\\n\\nThe system uses Deep learning algorithms and signal processing\\n\\nSoft Skills\\n\\n\\n\\n\\n\\n\\n\\ntechniques to extract features from the audio input and classify it into different emotion categories. \\n\\n\\n\\nCommunication\\n\\nAutomated Fish Species Detection\\n\\nFeb,2022\\n\\n\\n\\nLeadership\\n\\n\\n\\nDeveloped an application that uses TensorFlow and Firebase to automate\\n\\n\\n\\nTime Management\\n\\nthe task of fish species detection. Trained a CNN model on a dataset of fish species images to achieve an accuracy of 90%. Integrated Firebase for cloud storage to store and retrieve images and prediction results.\\n\\nInternship\\n\\nWe&Data\\n\\n\\n\\nAdaptability\\n\\n\\n\\n\\n\\nProblem-Solving\\n\\n\\n\\n\\n\\nCreativity\\n\\n\\n\\nDeclaration \\nHereby, I declare that the above mentioned details are true and accurate to the best of by\\n\\n\\n\\n\\n\\n\\n\\nI have done my internship in We&data. They provided me platform to\\n\\n\\n\\nlearn PowerBI data visualization tool.\\n\\nknowledge \\n\\nGokulaVarshini M\\n\\n\\n\\nI have learnt the ETL process which the fundamental part of Data Analysis\\n\\n\\n\\n\\n\\n\\n\\nCreated a Dashboard for analyzing the country's financial status.\\n\\nCoimbatore, 21/02/2023\",\n          \"SAHIL SHARMA \\n\\n\\n\\nMobile : +91-9988291420 \\n\\n\\n\\n\\tEmail:sahilsharmazrk@gmail.com \\n\\tsahil.sharmachd2510@gmail.com \\n\\n\\n\\nResume for the post of R&D-Design Engineer \\n\\nCareer Objective \\n\\nTo have a growth oriented and challenging career. Where I can contribute my knowledge and skill to the organization and enhance my experience through continuous learning and team work. \\n\\nORGANIZATIONAL EXPERIENCE \\n\\nCenlub Industries Ltd. in R&D-DESIGN Dept. August, 2019 to Present \\n\\n\\tKey Responsibility: \\n\\t\\uf0b7To make quality design for the company as per customer need. \\n\\n\\uf0b7Modification in the existing design. \\n\\n\\uf0b7To identify solutions to improve product efficiency. \\n\\n\\uf0b7Use design software to develop models and drawings of new products. \\uf0b7Product data analysis (Estimation, Planning and Deliveries). \\n\\nPROFESSIONAL QUALIFICATION \\n\\nCourse \\n\\nUniversity /Board \\n\\nYear of Passing \\n\\nPercentage \\n\\n\\n\\n\\n\\n\\n\\n\\n\\nCGPA \\n\\nMasters of \\nTechnology \\n(M.TECH) in \\n\\nRayat-Bahra \\nUniversity School of Engineering and \\n\\nMay 2019 \\n(Thesis in Design) \\n\\n73.6% \\n\\n\\n\\n\\n\\nMechanical Engineering \\n\\nTechnology, Mohali \\n\\n\\n\\n\\n\\n\\n\\nBachelor of \\n\\nPunjab Technical \\n\\nNov 2015 \\n\\n67 % \\n\\nEngineering \\n\\nUniversity, Jalandhar \\n\\nTechnology \\n(B.Tech) in \\nMechanical \\n\\nEngineering \\n\\n\\n\\n\\n\\n\\n\\nDiploma In Mech. \\n\\nEngineering \\n\\nThe Punjab State \\nBoard of Technical \\nEducation & Industrial Training, Chandigarh \\n\\nSep. 2012 \\n\\n54 % \\n\\n\\n\\n\\n\\n\\n\\nACADEMIC QUALIFICATION \\n\\nSchooling from CBSE Mount Carmel School, Chandigarh. \\n\\nTECH. INDUSTRIAL AND PRACTICAL TRAINING IN B. TECH \\n\\n\\uf0b7Six week Automobile training at H.R. Vehicles Pvt. Ltd (AMW). \\n\\n\\t\\uf0b7\\tFour months training in Alcon wires and cables Industries.\\n\\nDIPLOMA TECHNICAL TRAINING \\n\\n\\t\\u2022\\tOne Month Industrial Practical Training at True\\u2019s Steels Pvt. Ltd. \\n\\nSOFTWARE PROFICIENCY \\n\\n\\t\\u2022\\tAutoCAD \\n\\n\\t\\u2022\\tSolidWorks \\n\\n\\t\\u2022\\tCatia \\n\\n\\t\\u2022\\tAnsys \\n\\nPERSONAL DETAILS \\n\\n\\u2022\\n\\nFather's Name \\n\\nSandeep Sharma \\n\\n\\u2022\\n\\nDate Of Birth \\n\\n17 August 1991 \\n\\n\\u2022\\n\\nMarital Status \\n\\nSingle \\n\\n\\u2022\\n\\nNationality \\n\\nIndian \\n\\n\\u2022\\n\\nCurrent Location \\n\\nChandigarh, U.T \\n\\n\\u2022\\n\\nPresent Address \\n\\n3021, Sector 23-D, Chandigarh. \\n\\nD E C L A R A T I O N \\n\\nI hereby declare that the above-mentioned information is correct up to my knowledge and I \\n\\nbear the responsibility for the correctness of the above-mentioned particulars. \\n\\n\\tDate:\\u2026\\u2026\\u2026\\u2026\\u2026.. \\tSahil Sharma \\n\\nPlace:\\u2026............\"\n        ],\n        \"semantic_type\": \"\",\n        \"description\": \"\"\n      }\n    }\n  ]\n}"
            }
          },
          "metadata": {},
          "execution_count": 3
        }
      ]
    },
    {
      "cell_type": "code",
      "source": [
        "df.dtypes"
      ],
      "metadata": {
        "colab": {
          "base_uri": "https://localhost:8080/"
        },
        "id": "FHcowNbi5hT1",
        "outputId": "4276fa20-57f4-4196-e636-bd90e3726577"
      },
      "execution_count": 4,
      "outputs": [
        {
          "output_type": "execute_result",
          "data": {
            "text/plain": [
              "Category       object\n",
              "Raw_Details    object\n",
              "dtype: object"
            ]
          },
          "metadata": {},
          "execution_count": 4
        }
      ]
    },
    {
      "cell_type": "code",
      "source": [
        "df.isna().sum()"
      ],
      "metadata": {
        "colab": {
          "base_uri": "https://localhost:8080/"
        },
        "id": "s03VFRr-5hWO",
        "outputId": "4fd23f36-8558-4490-8941-7d1238b01e01"
      },
      "execution_count": 5,
      "outputs": [
        {
          "output_type": "execute_result",
          "data": {
            "text/plain": [
              "Category       0\n",
              "Raw_Details    0\n",
              "dtype: int64"
            ]
          },
          "metadata": {},
          "execution_count": 5
        }
      ]
    },
    {
      "cell_type": "code",
      "source": [
        "df.shape"
      ],
      "metadata": {
        "colab": {
          "base_uri": "https://localhost:8080/"
        },
        "id": "2soo7EwE6PPS",
        "outputId": "247b8819-07a3-4845-8b9e-a686f083d72e"
      },
      "execution_count": 6,
      "outputs": [
        {
          "output_type": "execute_result",
          "data": {
            "text/plain": [
              "(19, 2)"
            ]
          },
          "metadata": {},
          "execution_count": 6
        }
      ]
    },
    {
      "cell_type": "code",
      "source": [
        "from sklearn.preprocessing import LabelEncoder\n",
        "encoder = LabelEncoder()\n",
        "df['category'] = encoder.fit_transform(df['Category'])"
      ],
      "metadata": {
        "id": "_2Ki-9ku_eG1"
      },
      "execution_count": 7,
      "outputs": []
    },
    {
      "cell_type": "code",
      "source": [
        "df.columns"
      ],
      "metadata": {
        "colab": {
          "base_uri": "https://localhost:8080/"
        },
        "id": "0vZ-dh9x_eOG",
        "outputId": "5da431a1-d9db-4fb3-c59c-9807c924a114"
      },
      "execution_count": 8,
      "outputs": [
        {
          "output_type": "execute_result",
          "data": {
            "text/plain": [
              "Index(['Category', 'Raw_Details', 'category'], dtype='object')"
            ]
          },
          "metadata": {},
          "execution_count": 8
        }
      ]
    },
    {
      "cell_type": "code",
      "source": [
        "from sklearn.feature_extraction.text import CountVectorizer\n",
        "vectorizer = CountVectorizer()\n",
        "x = vectorizer.fit_transform(df['Raw_Details'])\n",
        "y = df[\"category\"]"
      ],
      "metadata": {
        "id": "e6qvIknyAs-W"
      },
      "execution_count": 9,
      "outputs": []
    },
    {
      "cell_type": "code",
      "source": [
        "x"
      ],
      "metadata": {
        "colab": {
          "base_uri": "https://localhost:8080/"
        },
        "id": "nFmLxveLVLcw",
        "outputId": "17eacfa8-f2b2-42ce-b420-3b32f53870b4"
      },
      "execution_count": 10,
      "outputs": [
        {
          "output_type": "execute_result",
          "data": {
            "text/plain": [
              "<19x3356 sparse matrix of type '<class 'numpy.int64'>'\n",
              "\twith 6163 stored elements in Compressed Sparse Row format>"
            ]
          },
          "metadata": {},
          "execution_count": 10
        }
      ]
    },
    {
      "cell_type": "code",
      "source": [
        "y"
      ],
      "metadata": {
        "colab": {
          "base_uri": "https://localhost:8080/"
        },
        "id": "qAyuT3eEVLkB",
        "outputId": "aa7aa95c-2bd6-425c-891c-4cec8b1238de"
      },
      "execution_count": 12,
      "outputs": [
        {
          "output_type": "execute_result",
          "data": {
            "text/plain": [
              "0     0\n",
              "1     0\n",
              "2     0\n",
              "3     0\n",
              "4     0\n",
              "5     1\n",
              "6     1\n",
              "7     1\n",
              "8     1\n",
              "9     1\n",
              "10    2\n",
              "11    2\n",
              "12    2\n",
              "13    2\n",
              "14    3\n",
              "15    3\n",
              "16    3\n",
              "17    3\n",
              "18    3\n",
              "Name: category, dtype: int64"
            ]
          },
          "metadata": {},
          "execution_count": 12
        }
      ]
    },
    {
      "cell_type": "code",
      "source": [
        "from sklearn.model_selection import train_test_split\n",
        "from sklearn.linear_model import LogisticRegression\n",
        "from sklearn.metrics import accuracy_score\n"
      ],
      "metadata": {
        "id": "6qMh-s4gWGua"
      },
      "execution_count": 13,
      "outputs": []
    },
    {
      "cell_type": "code",
      "source": [
        "x_train, x_test, y_train, y_test = train_test_split(x, y, test_size=0.2, random_state=42)"
      ],
      "metadata": {
        "id": "ygoLgTQ4WVe6"
      },
      "execution_count": 14,
      "outputs": []
    },
    {
      "cell_type": "code",
      "source": [
        "model = LogisticRegression()"
      ],
      "metadata": {
        "id": "IfArQ431WGnC"
      },
      "execution_count": 15,
      "outputs": []
    },
    {
      "cell_type": "code",
      "source": [
        "model.fit(x_train, y_train)"
      ],
      "metadata": {
        "colab": {
          "base_uri": "https://localhost:8080/",
          "height": 75
        },
        "id": "IB-9O4PiWPoT",
        "outputId": "935d6894-53c0-47e9-d9df-90c54b51be6e"
      },
      "execution_count": 16,
      "outputs": [
        {
          "output_type": "execute_result",
          "data": {
            "text/plain": [
              "LogisticRegression()"
            ],
            "text/html": [
              "<style>#sk-container-id-1 {color: black;background-color: white;}#sk-container-id-1 pre{padding: 0;}#sk-container-id-1 div.sk-toggleable {background-color: white;}#sk-container-id-1 label.sk-toggleable__label {cursor: pointer;display: block;width: 100%;margin-bottom: 0;padding: 0.3em;box-sizing: border-box;text-align: center;}#sk-container-id-1 label.sk-toggleable__label-arrow:before {content: \"▸\";float: left;margin-right: 0.25em;color: #696969;}#sk-container-id-1 label.sk-toggleable__label-arrow:hover:before {color: black;}#sk-container-id-1 div.sk-estimator:hover label.sk-toggleable__label-arrow:before {color: black;}#sk-container-id-1 div.sk-toggleable__content {max-height: 0;max-width: 0;overflow: hidden;text-align: left;background-color: #f0f8ff;}#sk-container-id-1 div.sk-toggleable__content pre {margin: 0.2em;color: black;border-radius: 0.25em;background-color: #f0f8ff;}#sk-container-id-1 input.sk-toggleable__control:checked~div.sk-toggleable__content {max-height: 200px;max-width: 100%;overflow: auto;}#sk-container-id-1 input.sk-toggleable__control:checked~label.sk-toggleable__label-arrow:before {content: \"▾\";}#sk-container-id-1 div.sk-estimator input.sk-toggleable__control:checked~label.sk-toggleable__label {background-color: #d4ebff;}#sk-container-id-1 div.sk-label input.sk-toggleable__control:checked~label.sk-toggleable__label {background-color: #d4ebff;}#sk-container-id-1 input.sk-hidden--visually {border: 0;clip: rect(1px 1px 1px 1px);clip: rect(1px, 1px, 1px, 1px);height: 1px;margin: -1px;overflow: hidden;padding: 0;position: absolute;width: 1px;}#sk-container-id-1 div.sk-estimator {font-family: monospace;background-color: #f0f8ff;border: 1px dotted black;border-radius: 0.25em;box-sizing: border-box;margin-bottom: 0.5em;}#sk-container-id-1 div.sk-estimator:hover {background-color: #d4ebff;}#sk-container-id-1 div.sk-parallel-item::after {content: \"\";width: 100%;border-bottom: 1px solid gray;flex-grow: 1;}#sk-container-id-1 div.sk-label:hover label.sk-toggleable__label {background-color: #d4ebff;}#sk-container-id-1 div.sk-serial::before {content: \"\";position: absolute;border-left: 1px solid gray;box-sizing: border-box;top: 0;bottom: 0;left: 50%;z-index: 0;}#sk-container-id-1 div.sk-serial {display: flex;flex-direction: column;align-items: center;background-color: white;padding-right: 0.2em;padding-left: 0.2em;position: relative;}#sk-container-id-1 div.sk-item {position: relative;z-index: 1;}#sk-container-id-1 div.sk-parallel {display: flex;align-items: stretch;justify-content: center;background-color: white;position: relative;}#sk-container-id-1 div.sk-item::before, #sk-container-id-1 div.sk-parallel-item::before {content: \"\";position: absolute;border-left: 1px solid gray;box-sizing: border-box;top: 0;bottom: 0;left: 50%;z-index: -1;}#sk-container-id-1 div.sk-parallel-item {display: flex;flex-direction: column;z-index: 1;position: relative;background-color: white;}#sk-container-id-1 div.sk-parallel-item:first-child::after {align-self: flex-end;width: 50%;}#sk-container-id-1 div.sk-parallel-item:last-child::after {align-self: flex-start;width: 50%;}#sk-container-id-1 div.sk-parallel-item:only-child::after {width: 0;}#sk-container-id-1 div.sk-dashed-wrapped {border: 1px dashed gray;margin: 0 0.4em 0.5em 0.4em;box-sizing: border-box;padding-bottom: 0.4em;background-color: white;}#sk-container-id-1 div.sk-label label {font-family: monospace;font-weight: bold;display: inline-block;line-height: 1.2em;}#sk-container-id-1 div.sk-label-container {text-align: center;}#sk-container-id-1 div.sk-container {/* jupyter's `normalize.less` sets `[hidden] { display: none; }` but bootstrap.min.css set `[hidden] { display: none !important; }` so we also need the `!important` here to be able to override the default hidden behavior on the sphinx rendered scikit-learn.org. See: https://github.com/scikit-learn/scikit-learn/issues/21755 */display: inline-block !important;position: relative;}#sk-container-id-1 div.sk-text-repr-fallback {display: none;}</style><div id=\"sk-container-id-1\" class=\"sk-top-container\"><div class=\"sk-text-repr-fallback\"><pre>LogisticRegression()</pre><b>In a Jupyter environment, please rerun this cell to show the HTML representation or trust the notebook. <br />On GitHub, the HTML representation is unable to render, please try loading this page with nbviewer.org.</b></div><div class=\"sk-container\" hidden><div class=\"sk-item\"><div class=\"sk-estimator sk-toggleable\"><input class=\"sk-toggleable__control sk-hidden--visually\" id=\"sk-estimator-id-1\" type=\"checkbox\" checked><label for=\"sk-estimator-id-1\" class=\"sk-toggleable__label sk-toggleable__label-arrow\">LogisticRegression</label><div class=\"sk-toggleable__content\"><pre>LogisticRegression()</pre></div></div></div></div></div>"
            ]
          },
          "metadata": {},
          "execution_count": 16
        }
      ]
    },
    {
      "cell_type": "code",
      "source": [
        "y_pred = model.predict(x_test)"
      ],
      "metadata": {
        "id": "j1Df8xbEXeBE"
      },
      "execution_count": 26,
      "outputs": []
    },
    {
      "cell_type": "code",
      "source": [
        "accuracy = accuracy_score(y_test, y_pred)\n",
        "print(\"Accuracy:\", accuracy)\n",
        "\n",
        "from sklearn.metrics import classification_report\n",
        "\n",
        "# Generate classification report\n",
        "report = classification_report(y_test, y_pred)\n",
        "\n",
        "# Print the report\n",
        "print(\"Classification Report:\\n\", report)\n"
      ],
      "metadata": {
        "colab": {
          "base_uri": "https://localhost:8080/"
        },
        "id": "WT_AQ1owWP1C",
        "outputId": "82325699-7a95-4409-96fe-8c18fdabcfe5"
      },
      "execution_count": 27,
      "outputs": [
        {
          "output_type": "stream",
          "name": "stdout",
          "text": [
            "Accuracy: 0.75\n",
            "Classification Report:\n",
            "               precision    recall  f1-score   support\n",
            "\n",
            "           0       1.00      1.00      1.00         2\n",
            "           1       0.00      0.00      0.00         1\n",
            "           2       1.00      1.00      1.00         1\n",
            "           3       0.00      0.00      0.00         0\n",
            "\n",
            "    accuracy                           0.75         4\n",
            "   macro avg       0.50      0.50      0.50         4\n",
            "weighted avg       0.75      0.75      0.75         4\n",
            "\n"
          ]
        },
        {
          "output_type": "stream",
          "name": "stderr",
          "text": [
            "/usr/local/lib/python3.10/dist-packages/sklearn/metrics/_classification.py:1344: UndefinedMetricWarning: Precision and F-score are ill-defined and being set to 0.0 in labels with no predicted samples. Use `zero_division` parameter to control this behavior.\n",
            "  _warn_prf(average, modifier, msg_start, len(result))\n",
            "/usr/local/lib/python3.10/dist-packages/sklearn/metrics/_classification.py:1344: UndefinedMetricWarning: Recall and F-score are ill-defined and being set to 0.0 in labels with no true samples. Use `zero_division` parameter to control this behavior.\n",
            "  _warn_prf(average, modifier, msg_start, len(result))\n",
            "/usr/local/lib/python3.10/dist-packages/sklearn/metrics/_classification.py:1344: UndefinedMetricWarning: Precision and F-score are ill-defined and being set to 0.0 in labels with no predicted samples. Use `zero_division` parameter to control this behavior.\n",
            "  _warn_prf(average, modifier, msg_start, len(result))\n",
            "/usr/local/lib/python3.10/dist-packages/sklearn/metrics/_classification.py:1344: UndefinedMetricWarning: Recall and F-score are ill-defined and being set to 0.0 in labels with no true samples. Use `zero_division` parameter to control this behavior.\n",
            "  _warn_prf(average, modifier, msg_start, len(result))\n",
            "/usr/local/lib/python3.10/dist-packages/sklearn/metrics/_classification.py:1344: UndefinedMetricWarning: Precision and F-score are ill-defined and being set to 0.0 in labels with no predicted samples. Use `zero_division` parameter to control this behavior.\n",
            "  _warn_prf(average, modifier, msg_start, len(result))\n",
            "/usr/local/lib/python3.10/dist-packages/sklearn/metrics/_classification.py:1344: UndefinedMetricWarning: Recall and F-score are ill-defined and being set to 0.0 in labels with no true samples. Use `zero_division` parameter to control this behavior.\n",
            "  _warn_prf(average, modifier, msg_start, len(result))\n"
          ]
        }
      ]
    },
    {
      "cell_type": "code",
      "source": [
        "from sklearn.model_selection import train_test_split, GridSearchCV\n",
        "from sklearn.tree import DecisionTreeClassifier\n",
        "from sklearn.metrics import accuracy_score, classification_report\n",
        "from sklearn.preprocessing import LabelEncoder\n",
        "from sklearn.feature_extraction.text import CountVectorizer\n",
        "\n",
        "# Assume df is your DataFrame with 'Raw_Details' and 'Category' columns\n",
        "\n",
        "# Encode the 'Category' column\n",
        "encoder = LabelEncoder()\n",
        "df['category'] = encoder.fit_transform(df['Category'])\n",
        "\n",
        "# Vectorize the text data\n",
        "vectorizer = CountVectorizer()\n",
        "x = vectorizer.fit_transform(df['Raw_Details'])\n",
        "y = df[\"category\"]\n",
        "\n",
        "# Split the dataset into training and testing sets\n",
        "X_train, X_test, y_train, y_test = train_test_split(x, y, test_size=0.2, random_state=42)\n",
        "\n",
        "# Define the parameter grid\n",
        "param_grid = {\n",
        "    'criterion': ['gini', 'entropy'],\n",
        "    'max_depth': [50,60,70,80,90,100],\n",
        "    'min_samples_split': [2,3,4,5],\n",
        "    'min_samples_leaf': [1,2,3,4,5]\n",
        "}\n",
        "\n",
        "# Initialize the decision tree classifier\n",
        "dt_classifier = DecisionTreeClassifier()\n",
        "\n",
        "# Initialize GridSearchCV\n",
        "grid_search = GridSearchCV(dt_classifier, param_grid, cv=5, scoring='accuracy')\n",
        "\n",
        "# Fit the GridSearchCV object to the training data\n",
        "grid_search.fit(X_train, y_train)\n",
        "\n",
        "# Get the best parameters and the best score\n",
        "best_params = grid_search.best_params_\n",
        "best_score = grid_search.best_score_\n",
        "\n",
        "print(\"Best Parameters:\", best_params)\n",
        "print(\"Best Score:\", best_score)\n",
        "\n",
        "# Use the best model from GridSearchCV to make predictions\n",
        "best_model = grid_search.best_estimator_\n",
        "y_pred = best_model.predict(X_test)\n",
        "\n",
        "# Evaluate the accuracy of the best model\n",
        "accuracy = accuracy_score(y_test, y_pred)\n",
        "print(\"Accuracy:\", accuracy)\n",
        "\n",
        "report = classification_report(y_test, y_pred, labels=range(len(encoder.classes_)), target_names=encoder.classes_)\n",
        "\n",
        "# Print the report\n",
        "print(\"Classification Report:\\n\", report)\n"
      ],
      "metadata": {
        "colab": {
          "base_uri": "https://localhost:8080/"
        },
        "id": "7yssNlJV0KDc",
        "outputId": "765508cd-ecc4-4a10-92c6-0e5f78ddb6cb"
      },
      "execution_count": 107,
      "outputs": [
        {
          "output_type": "stream",
          "name": "stderr",
          "text": [
            "/usr/local/lib/python3.10/dist-packages/sklearn/model_selection/_split.py:700: UserWarning: The least populated class in y has only 3 members, which is less than n_splits=5.\n",
            "  warnings.warn(\n"
          ]
        },
        {
          "output_type": "stream",
          "name": "stdout",
          "text": [
            "Best Parameters: {'criterion': 'gini', 'max_depth': 70, 'min_samples_leaf': 2, 'min_samples_split': 4}\n",
            "Best Score: 0.8666666666666666\n",
            "Accuracy: 0.5\n",
            "Classification Report:\n",
            "                  precision    recall  f1-score   support\n",
            "\n",
            "  Data Engineer       0.50      1.00      0.67         2\n",
            " Data Scientist       0.00      0.00      0.00         1\n",
            "Design Engineer       0.00      0.00      0.00         1\n",
            " Java Developer       0.00      0.00      0.00         0\n",
            "\n",
            "      micro avg       0.50      0.50      0.50         4\n",
            "      macro avg       0.12      0.25      0.17         4\n",
            "   weighted avg       0.25      0.50      0.33         4\n",
            "\n"
          ]
        },
        {
          "output_type": "stream",
          "name": "stderr",
          "text": [
            "/usr/local/lib/python3.10/dist-packages/sklearn/metrics/_classification.py:1344: UndefinedMetricWarning: Precision and F-score are ill-defined and being set to 0.0 in labels with no predicted samples. Use `zero_division` parameter to control this behavior.\n",
            "  _warn_prf(average, modifier, msg_start, len(result))\n",
            "/usr/local/lib/python3.10/dist-packages/sklearn/metrics/_classification.py:1344: UndefinedMetricWarning: Recall and F-score are ill-defined and being set to 0.0 in labels with no true samples. Use `zero_division` parameter to control this behavior.\n",
            "  _warn_prf(average, modifier, msg_start, len(result))\n",
            "/usr/local/lib/python3.10/dist-packages/sklearn/metrics/_classification.py:1344: UndefinedMetricWarning: Precision and F-score are ill-defined and being set to 0.0 in labels with no predicted samples. Use `zero_division` parameter to control this behavior.\n",
            "  _warn_prf(average, modifier, msg_start, len(result))\n",
            "/usr/local/lib/python3.10/dist-packages/sklearn/metrics/_classification.py:1344: UndefinedMetricWarning: Recall and F-score are ill-defined and being set to 0.0 in labels with no true samples. Use `zero_division` parameter to control this behavior.\n",
            "  _warn_prf(average, modifier, msg_start, len(result))\n",
            "/usr/local/lib/python3.10/dist-packages/sklearn/metrics/_classification.py:1344: UndefinedMetricWarning: Precision and F-score are ill-defined and being set to 0.0 in labels with no predicted samples. Use `zero_division` parameter to control this behavior.\n",
            "  _warn_prf(average, modifier, msg_start, len(result))\n",
            "/usr/local/lib/python3.10/dist-packages/sklearn/metrics/_classification.py:1344: UndefinedMetricWarning: Recall and F-score are ill-defined and being set to 0.0 in labels with no true samples. Use `zero_division` parameter to control this behavior.\n",
            "  _warn_prf(average, modifier, msg_start, len(result))\n"
          ]
        }
      ]
    },
    {
      "cell_type": "code",
      "source": [
        "import pandas as pd\n",
        "from sklearn.model_selection import train_test_split, GridSearchCV\n",
        "from sklearn.svm import SVC\n",
        "from sklearn.metrics import accuracy_score, classification_report\n",
        "from sklearn.preprocessing import LabelEncoder\n",
        "from sklearn.feature_extraction.text import CountVectorizer\n",
        "\n",
        "# Assuming 'df' is your DataFrame containing the data\n",
        "encoder = LabelEncoder()\n",
        "df['category'] = encoder.fit_transform(df['Category'])\n",
        "\n",
        "# Vectorize the text data\n",
        "vectorizer = CountVectorizer()\n",
        "x = vectorizer.fit_transform(df['Raw_Details'])\n",
        "y = df[\"category\"]\n",
        "\n",
        "# Split the dataset into training and testing sets\n",
        "X_train, X_test, y_train, y_test = train_test_split(x, y, test_size=0.2, random_state=42)\n",
        "\n",
        "# Define the parameter grid for grid search\n",
        "param_grid = [\n",
        "    {'kernel': ['linear'], 'C': [0.1, 1, 10, 50]},\n",
        "    {'kernel': ['rbf'], 'C': [0.1, 1, 10, 50], 'gamma': ['scale', 'auto', 0.1, 0.01, 0.001]}\n",
        "]\n",
        "\n",
        "# Initialize the SVM model\n",
        "svm_model = SVC()\n",
        "\n",
        "# Initialize GridSearchCV\n",
        "grid_search = GridSearchCV(svm_model, param_grid, cv=5, scoring='accuracy')\n",
        "\n",
        "# Fit the grid search to the data\n",
        "grid_search.fit(X_train, y_train)\n",
        "\n",
        "# Get the best parameters\n",
        "best_params = grid_search.best_params_\n",
        "print(\"Best Parameters:\", best_params)\n",
        "\n",
        "# Get the best model\n",
        "best_model = grid_search.best_estimator_\n",
        "\n",
        "# Make predictions on the testing data\n",
        "y_pred = best_model.predict(X_test)\n",
        "\n",
        "# Evaluate the model's performance\n",
        "accuracy = accuracy_score(y_test, y_pred)\n",
        "print(\"Accuracy:\", accuracy)\n",
        "\n",
        "# Generate classification report\n",
        "report = classification_report(y_test, y_pred)\n",
        "\n",
        "# Print the report\n",
        "print(\"Classification Report:\\n\", report)\n"
      ],
      "metadata": {
        "id": "S0yj51bdDTYM",
        "colab": {
          "base_uri": "https://localhost:8080/"
        },
        "outputId": "c52fd60f-c2cc-4b40-8988-287b09fdf251"
      },
      "execution_count": 108,
      "outputs": [
        {
          "output_type": "stream",
          "name": "stderr",
          "text": [
            "/usr/local/lib/python3.10/dist-packages/sklearn/model_selection/_split.py:700: UserWarning: The least populated class in y has only 3 members, which is less than n_splits=5.\n",
            "  warnings.warn(\n"
          ]
        },
        {
          "output_type": "stream",
          "name": "stdout",
          "text": [
            "Best Parameters: {'C': 0.1, 'kernel': 'linear'}\n",
            "Accuracy: 0.5\n",
            "Classification Report:\n",
            "               precision    recall  f1-score   support\n",
            "\n",
            "           0       1.00      1.00      1.00         2\n",
            "           1       0.00      0.00      0.00         1\n",
            "           2       0.00      0.00      0.00         1\n",
            "           3       0.00      0.00      0.00         0\n",
            "\n",
            "    accuracy                           0.50         4\n",
            "   macro avg       0.25      0.25      0.25         4\n",
            "weighted avg       0.50      0.50      0.50         4\n",
            "\n"
          ]
        },
        {
          "output_type": "stream",
          "name": "stderr",
          "text": [
            "/usr/local/lib/python3.10/dist-packages/sklearn/metrics/_classification.py:1344: UndefinedMetricWarning: Precision and F-score are ill-defined and being set to 0.0 in labels with no predicted samples. Use `zero_division` parameter to control this behavior.\n",
            "  _warn_prf(average, modifier, msg_start, len(result))\n",
            "/usr/local/lib/python3.10/dist-packages/sklearn/metrics/_classification.py:1344: UndefinedMetricWarning: Recall and F-score are ill-defined and being set to 0.0 in labels with no true samples. Use `zero_division` parameter to control this behavior.\n",
            "  _warn_prf(average, modifier, msg_start, len(result))\n",
            "/usr/local/lib/python3.10/dist-packages/sklearn/metrics/_classification.py:1344: UndefinedMetricWarning: Precision and F-score are ill-defined and being set to 0.0 in labels with no predicted samples. Use `zero_division` parameter to control this behavior.\n",
            "  _warn_prf(average, modifier, msg_start, len(result))\n",
            "/usr/local/lib/python3.10/dist-packages/sklearn/metrics/_classification.py:1344: UndefinedMetricWarning: Recall and F-score are ill-defined and being set to 0.0 in labels with no true samples. Use `zero_division` parameter to control this behavior.\n",
            "  _warn_prf(average, modifier, msg_start, len(result))\n",
            "/usr/local/lib/python3.10/dist-packages/sklearn/metrics/_classification.py:1344: UndefinedMetricWarning: Precision and F-score are ill-defined and being set to 0.0 in labels with no predicted samples. Use `zero_division` parameter to control this behavior.\n",
            "  _warn_prf(average, modifier, msg_start, len(result))\n",
            "/usr/local/lib/python3.10/dist-packages/sklearn/metrics/_classification.py:1344: UndefinedMetricWarning: Recall and F-score are ill-defined and being set to 0.0 in labels with no true samples. Use `zero_division` parameter to control this behavior.\n",
            "  _warn_prf(average, modifier, msg_start, len(result))\n"
          ]
        }
      ]
    },
    {
      "cell_type": "code",
      "source": [
        "from sklearn.ensemble import AdaBoostClassifier\n",
        "from sklearn.tree import DecisionTreeClassifier\n",
        "from sklearn.datasets import make_classification\n",
        "from sklearn.model_selection import train_test_split\n",
        "from sklearn.metrics import accuracy_score, classification_report\n",
        "from sklearn.preprocessing import LabelEncoder\n",
        "\n",
        "encoder = LabelEncoder()\n",
        "df['category'] = encoder.fit_transform(df['Category'])\n",
        "\n",
        "from sklearn.feature_extraction.text import CountVectorizer\n",
        "vectorizer = CountVectorizer()\n",
        "x = vectorizer.fit_transform(df['Raw_Details'])\n",
        "y = df[\"category\"]\n",
        "\n",
        "# Generate synthetic data for demonstration\n",
        "x, y = make_classification(\n",
        "    n_samples=1000,\n",
        "    n_features=20,\n",
        "    n_informative=10,\n",
        "    n_classes=4,\n",
        "    n_clusters_per_class=2,\n",
        "    random_state=42\n",
        ")\n",
        "\n",
        "# Split the data into training and testing sets\n",
        "X_train, X_test, y_train, y_test = train_test_split(x, y, test_size=0.2, random_state=42)\n",
        "\n",
        "# Initialize a base classifier (decision tree in this example)\n",
        "base_classifier = DecisionTreeClassifier(max_depth=10)\n",
        "\n",
        "# Initialize the Random AdaBoost model\n",
        "random_adaboost_model = AdaBoostClassifier(base_classifier, n_estimators=50, random_state=42)\n",
        "\n",
        "# Train the model on the training data\n",
        "random_adaboost_model.fit(X_train, y_train)\n",
        "\n",
        "# Make predictions on the testing data\n",
        "y_pred = random_adaboost_model.predict(X_test)\n",
        "\n",
        "# Evaluate the accuracy of the model\n",
        "accuracy = accuracy_score(y_test, y_pred)\n",
        "print(\"Accuracy:\", accuracy)\n",
        "\n",
        "# Generate classification report\n",
        "report = classification_report(y_test, y_pred)\n",
        "\n",
        "# Print the report\n",
        "print(\"Classification Report:\\n\", report)\n"
      ],
      "metadata": {
        "colab": {
          "base_uri": "https://localhost:8080/"
        },
        "id": "TqXCODrL-tFD",
        "outputId": "25fadd5e-1b66-4e6f-e5e8-9c26dc4d5b9c"
      },
      "execution_count": 84,
      "outputs": [
        {
          "output_type": "stream",
          "name": "stdout",
          "text": [
            "Accuracy: 0.815\n",
            "Classification Report:\n",
            "               precision    recall  f1-score   support\n",
            "\n",
            "           0       0.79      0.75      0.77        51\n",
            "           1       0.97      0.76      0.86        51\n",
            "           2       0.75      0.89      0.81        54\n",
            "           3       0.79      0.86      0.83        44\n",
            "\n",
            "    accuracy                           0.81       200\n",
            "   macro avg       0.83      0.82      0.82       200\n",
            "weighted avg       0.83      0.81      0.82       200\n",
            "\n"
          ]
        }
      ]
    },
    {
      "cell_type": "code",
      "source": [
        "import pandas as pd\n",
        "from sklearn.model_selection import train_test_split\n",
        "from sklearn.metrics import accuracy_score, classification_report\n",
        "from sklearn.preprocessing import LabelEncoder\n",
        "from sklearn.feature_extraction.text import CountVectorizer\n",
        "from xgboost import XGBClassifier\n",
        "\n",
        "\n",
        "# Encode the target variable\n",
        "encoder = LabelEncoder()\n",
        "df['category'] = encoder.fit_transform(df['Category'])\n",
        "\n",
        "# Vectorize text data\n",
        "vectorizer = CountVectorizer()\n",
        "x = vectorizer.fit_transform(df['Raw_Details'])\n",
        "y = df[\"category\"]\n",
        "\n",
        "# Split data into train and test sets\n",
        "X_train, X_test, y_train, y_test = train_test_split(x, y, test_size=0.2, random_state=42)\n",
        "\n",
        "# Define hyperparameters\n",
        "params = {\n",
        "    'learning_rate': 0.01,\n",
        "    'max_depth': 25,\n",
        "    'gamma': 0.1\n",
        "}\n",
        "\n",
        "# Instantiate XGBoost classifier with defined hyperparameters\n",
        "xgb_model = XGBClassifier(**params)\n",
        "\n",
        "# Train the model\n",
        "xgb_model.fit(X_train, y_train)\n",
        "\n",
        "# Make predictions\n",
        "y_pred = xgb_model.predict(X_test)\n",
        "\n",
        "# Evaluate the model\n",
        "accuracy = accuracy_score(y_test, y_pred)\n",
        "print(\"Accuracy:\", accuracy)\n",
        "\n",
        "# Generate classification report\n",
        "report = classification_report(y_test, y_pred)\n",
        "\n",
        "# Print the report\n",
        "print(\"Classification Report:\\n\", report)\n"
      ],
      "metadata": {
        "colab": {
          "base_uri": "https://localhost:8080/"
        },
        "id": "g94e2hxSMB3m",
        "outputId": "203dfb6b-4bbd-43f6-e116-954286600dbc"
      },
      "execution_count": 99,
      "outputs": [
        {
          "output_type": "stream",
          "name": "stdout",
          "text": [
            "Accuracy: 0.25\n",
            "Classification Report:\n",
            "               precision    recall  f1-score   support\n",
            "\n",
            "           0       0.50      0.50      0.50         2\n",
            "           1       0.00      0.00      0.00         1\n",
            "           2       0.00      0.00      0.00         1\n",
            "           3       0.00      0.00      0.00         0\n",
            "\n",
            "    accuracy                           0.25         4\n",
            "   macro avg       0.12      0.12      0.12         4\n",
            "weighted avg       0.25      0.25      0.25         4\n",
            "\n"
          ]
        },
        {
          "output_type": "stream",
          "name": "stderr",
          "text": [
            "/usr/local/lib/python3.10/dist-packages/sklearn/metrics/_classification.py:1344: UndefinedMetricWarning: Precision and F-score are ill-defined and being set to 0.0 in labels with no predicted samples. Use `zero_division` parameter to control this behavior.\n",
            "  _warn_prf(average, modifier, msg_start, len(result))\n",
            "/usr/local/lib/python3.10/dist-packages/sklearn/metrics/_classification.py:1344: UndefinedMetricWarning: Recall and F-score are ill-defined and being set to 0.0 in labels with no true samples. Use `zero_division` parameter to control this behavior.\n",
            "  _warn_prf(average, modifier, msg_start, len(result))\n",
            "/usr/local/lib/python3.10/dist-packages/sklearn/metrics/_classification.py:1344: UndefinedMetricWarning: Precision and F-score are ill-defined and being set to 0.0 in labels with no predicted samples. Use `zero_division` parameter to control this behavior.\n",
            "  _warn_prf(average, modifier, msg_start, len(result))\n",
            "/usr/local/lib/python3.10/dist-packages/sklearn/metrics/_classification.py:1344: UndefinedMetricWarning: Recall and F-score are ill-defined and being set to 0.0 in labels with no true samples. Use `zero_division` parameter to control this behavior.\n",
            "  _warn_prf(average, modifier, msg_start, len(result))\n",
            "/usr/local/lib/python3.10/dist-packages/sklearn/metrics/_classification.py:1344: UndefinedMetricWarning: Precision and F-score are ill-defined and being set to 0.0 in labels with no predicted samples. Use `zero_division` parameter to control this behavior.\n",
            "  _warn_prf(average, modifier, msg_start, len(result))\n",
            "/usr/local/lib/python3.10/dist-packages/sklearn/metrics/_classification.py:1344: UndefinedMetricWarning: Recall and F-score are ill-defined and being set to 0.0 in labels with no true samples. Use `zero_division` parameter to control this behavior.\n",
            "  _warn_prf(average, modifier, msg_start, len(result))\n"
          ]
        }
      ]
    },
    {
      "cell_type": "code",
      "source": [
        "from sklearn.datasets import make_classification\n",
        "from sklearn.model_selection import train_test_split\n",
        "from sklearn.metrics import accuracy_score, classification_report\n",
        "from sklearn.neighbors import KNeighborsClassifier\n",
        "\n",
        "# Generate synthetic data for demonstration\n",
        "x, y = make_classification(n_samples=1000, n_features=5, n_classes=4, n_clusters_per_class=1, random_state=42)\n",
        "\n",
        "# Split the data into training and testing sets\n",
        "X_train, X_test, y_train, y_test = train_test_split(x, y, test_size=0.2, random_state=42)\n",
        "\n",
        "# Initialize the KNN model\n",
        "k = 5\n",
        "model = KNeighborsClassifier(n_neighbors=k)\n",
        "\n",
        "# Train the model on the training data\n",
        "model.fit(X_train, y_train)\n",
        "\n",
        "# Make predictions on the testing data\n",
        "y_pred = model.predict(X_test)\n",
        "\n",
        "# Evaluate the accuracy of the model\n",
        "accuracy = accuracy_score(y_test, y_pred)\n",
        "print(\"Accuracy:\", accuracy)\n",
        "\n",
        "# Generate classification report\n",
        "report = classification_report(y_test, y_pred)\n",
        "\n",
        "# Print the report\n",
        "print(\"Classification Report:\\n\", report)\n"
      ],
      "metadata": {
        "colab": {
          "base_uri": "https://localhost:8080/"
        },
        "id": "zrSamM4PMB44",
        "outputId": "d2cc2892-d641-434f-d012-bedf0cba1e4c"
      },
      "execution_count": 106,
      "outputs": [
        {
          "output_type": "stream",
          "name": "stdout",
          "text": [
            "Accuracy: 0.83\n",
            "Classification Report:\n",
            "               precision    recall  f1-score   support\n",
            "\n",
            "           0       0.75      0.94      0.83        47\n",
            "           1       0.84      0.67      0.74        54\n",
            "           2       0.90      0.90      0.90        50\n",
            "           3       0.85      0.84      0.85        49\n",
            "\n",
            "    accuracy                           0.83       200\n",
            "   macro avg       0.83      0.83      0.83       200\n",
            "weighted avg       0.84      0.83      0.83       200\n",
            "\n"
          ]
        }
      ]
    },
    {
      "cell_type": "code",
      "source": [
        "from sklearn.ensemble import GradientBoostingClassifier\n",
        "from sklearn.datasets import make_classification\n",
        "from sklearn.model_selection import train_test_split\n",
        "from sklearn.metrics import accuracy_score, classification_report\n",
        "\n",
        "# Generate synthetic data for demonstration with 4 classes\n",
        "X, y = make_classification(n_samples=1000, n_features=20, n_classes=4, n_clusters_per_class=1, random_state=42)\n",
        "\n",
        "# Split the data into training and testing sets\n",
        "X_train, X_test, y_train, y_test = train_test_split(X, y, test_size=0.2, random_state=42)\n",
        "\n",
        "# Initialize the Gradient Boosting Classifier\n",
        "gbm = GradientBoostingClassifier(n_estimators=100, learning_rate=0.1, max_depth=3, random_state=42)\n",
        "\n",
        "# Train the GBM model\n",
        "gbm.fit(X_train, y_train)\n",
        "\n",
        "# Make predictions on the testing data\n",
        "y_pred = gbm.predict(X_test)\n",
        "\n",
        "# Evaluate the accuracy of the model\n",
        "accuracy = accuracy_score(y_test, y_pred)\n",
        "print(\"Accuracy:\", accuracy)\n",
        "\n",
        "# Generate classification report\n",
        "report = classification_report(y_test, y_pred)\n",
        "\n",
        "# Print the report\n",
        "print(\"Classification Report:\\n\", report)\n"
      ],
      "metadata": {
        "colab": {
          "base_uri": "https://localhost:8080/"
        },
        "id": "yGawn1efkxxx",
        "outputId": "a74ee259-bc75-42e9-bf38-e4654e116bf1"
      },
      "execution_count": 72,
      "outputs": [
        {
          "output_type": "stream",
          "name": "stdout",
          "text": [
            "Accuracy: 0.85\n",
            "Classification Report:\n",
            "               precision    recall  f1-score   support\n",
            "\n",
            "           0       0.75      0.91      0.82        46\n",
            "           1       0.91      0.76      0.83        63\n",
            "           2       0.91      0.89      0.90        47\n",
            "           3       0.84      0.86      0.85        44\n",
            "\n",
            "    accuracy                           0.85       200\n",
            "   macro avg       0.85      0.86      0.85       200\n",
            "weighted avg       0.86      0.85      0.85       200\n",
            "\n"
          ]
        }
      ]
    },
    {
      "cell_type": "code",
      "source": [],
      "metadata": {
        "id": "5MKq_zv-8Csw"
      },
      "execution_count": null,
      "outputs": []
    }
  ]
}